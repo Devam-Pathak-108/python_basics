{
 "cells": [
  {
   "cell_type": "code",
   "execution_count": 13,
   "id": "e295ec5f-48c1-4e98-8526-788de7d3fc92",
   "metadata": {},
   "outputs": [
    {
     "name": "stdout",
     "output_type": "stream",
     "text": [
      "Hello There\n"
     ]
    }
   ],
   "source": [
    "#Int \n",
    "# 123123\n",
    "# float\n",
    "# 123.234\n",
    "# String\n",
    "# 'hello'\n",
    "# \"Hello\"\n"
   ]
  },
  {
   "cell_type": "code",
   "execution_count": 2,
   "id": "e2768761-d438-49a4-ac1f-3deb352e8f2b",
   "metadata": {},
   "outputs": [
    {
     "name": "stdout",
     "output_type": "stream",
     "text": [
      "Hello there How are you? I am f9\n"
     ]
    }
   ],
   "source": [
    "print(\"Hello there\",\"How are you?\", \"I am f9\")"
   ]
  },
  {
   "cell_type": "code",
   "execution_count": 4,
   "id": "0037ec5c-1e09-4874-8cef-9e760ca4115c",
   "metadata": {},
   "outputs": [
    {
     "name": "stdout",
     "output_type": "stream",
     "text": [
      "None String\n"
     ]
    }
   ],
   "source": [
    "# Variable\n",
    "hello1 = \"String\"\n",
    "hello2 = 123\n",
    "hello3 = 123.123\n",
    "\n",
    "world = hello1\n",
    "hello1 = None\n",
    "print(hello1,world)"
   ]
  },
  {
   "cell_type": "code",
   "execution_count": 6,
   "id": "73845592-5635-4660-9c8c-f1ba4cd2c7f0",
   "metadata": {},
   "outputs": [
    {
     "name": "stdin",
     "output_type": "stream",
     "text": [
      "What is your name :  Ethon\n"
     ]
    },
    {
     "name": "stdout",
     "output_type": "stream",
     "text": [
      "hello there Ethon\n"
     ]
    }
   ],
   "source": [
    "# Taking input form CLI\n",
    "variable1 = input(\"What is your name : \")\n",
    "print(\"hello there\", variable1)"
   ]
  },
  {
   "cell_type": "code",
   "execution_count": 10,
   "id": "8b1ab2c3-2336-4829-b2ee-6de4432d2f32",
   "metadata": {},
   "outputs": [
    {
     "name": "stdout",
     "output_type": "stream",
     "text": [
      "12.5\n",
      "5.5\n",
      "31.5\n",
      "2.5714285714285716\n",
      "2.0\n",
      "2.0\n",
      "2187.0\n",
      "But this will \n",
      "But this will \n",
      "But this will \n",
      "But this will \n",
      "But this will \n",
      "But this will \n",
      "But this will \n",
      "But this will \n",
      "\n"
     ]
    }
   ],
   "source": [
    "# Operators\n",
    "\n",
    "# EXAMPLES OF COMPARISON OPERATORS\n",
    "\n",
    "x = 5\n",
    "y = 10\n",
    "# Equality\n",
    "result1 = x == y  # False\n",
    "# Inequality\n",
    "result2 = x != y  # True\n",
    "# Less than\n",
    "result3 = x < y   # True\n",
    "# Greater than or equal to\n",
    "result4 = x >= y  # \n",
    "\n",
    "# EXAMPLES OF LOGICAL OPERATORS\n",
    "\n",
    "x = True\n",
    "y = False\n",
    "# Logical AND\n",
    "result1 = x and y  # False\n",
    "# Logical OR\n",
    "result2 = x or y   # True\n",
    "# Logical NOT\n",
    "result3 = not x    # False\n",
    "\n",
    "# EXAMPLES OF ARITHMETIC OPERATORS\n",
    "\n",
    "a = 10\n",
    "b = 3\n",
    "# Addition\n",
    "addition_result = a + b  # 13\n",
    "# Subtraction\n",
    "subtraction_result = a - b  # 7\n",
    "# Multiplication\n",
    "multiplication_result = a * b  # 30\n",
    "# Division\n",
    "division_result = a / b  # 3.3333333333333335\n",
    "# Modulus\n",
    "modulus_result = a % b  # 1\n",
    "# Exponentiation\n",
    "exponentiation_result = a ** b  # 1000\n",
    "# Floor Division\n",
    "floor_division_result = a // b  # 3\n",
    "\n",
    "# EXAMPLES OF BITWISE OPERATORS\n",
    "\n",
    "x = 5  # 0b101 (binary representation)\n",
    "y = 3  # 0b011 (binary representation)\n",
    "# Bitwise AND\n",
    "bitwise_and_result = x & y  # 1 (binary: 0b001)\n",
    "# Bitwise OR\n",
    "bitwise_or_result = x | y  # 7 (binary: 0b111)\n",
    "# Bitwise XOR\n",
    "bitwise_xor_result = x ^ y  # 6 (binary: 0b110)\n",
    "# Bitwise NOT (inverts all bits)\n",
    "bitwise_not_result = ~x  # -6 (binary: 0b11111111111111111111111111111010)\n",
    "# Left Shift\n",
    "left_shift_result = x << 2  # 20 (binary: 0b10100)\n",
    "# Right Shift\n",
    "right_shift_result = x >> 1  # 2 (binary: 0b10)\n",
    "\n",
    "# EXAMPLES OF ASSIGNMENT OPERATORS\n",
    "\n",
    "x = 10\n",
    "# Addition Assignment\n",
    "x += 5  # Equivalent to x = x + 5, x is now 15\n",
    "# Subtraction Assignment\n",
    "x -= 3  # Equivalent to x = x - 3, x is now 12\n",
    "# Multiplication Assignment\n",
    "x *= 2  # Equivalent to x = x * 2, x is now 24\n",
    "# Division Assignment\n",
    "x /= 4  # Equivalent to x = x / 4, x is now 6.0\n",
    "# Modulus Assignment\n",
    "x %= 5  # Equivalent to x = x % 5, x is now 1.0\n",
    "# Exponentiation Assignment\n",
    "x **= 3  # Equivalent to x = x ** 3, x is now 1.0\n",
    "# Floor Division Assignment\n",
    "x //= 2  # Equivalent to x = x // 2, x is now 0.0"
   ]
  },
  {
   "cell_type": "code",
   "execution_count": 11,
   "id": "10f422d8-b188-4d55-8ddc-fc3950a2e1ec",
   "metadata": {},
   "outputs": [
    {
     "name": "stdout",
     "output_type": "stream",
     "text": [
      "But this will \n",
      "But this will \n",
      "But this will \n",
      "But this will \n",
      "But this will \n",
      "But this will \n",
      "But this will \n",
      "But this will \n",
      "\n"
     ]
    }
   ],
   "source": [
    "\n",
    "# print(\"hello\"+9) this will not work\n",
    "print(\"But this will \\n\" * 8) # Gusse what this will do!"
   ]
  },
  {
   "cell_type": "code",
   "execution_count": 15,
   "id": "40be87a0-4373-46ac-9a8e-213e934a7d2f",
   "metadata": {},
   "outputs": [
    {
     "name": "stdout",
     "output_type": "stream",
     "text": [
      "10.0\n",
      "10\n",
      "10.1 <class 'str'>\n"
     ]
    }
   ],
   "source": [
    "# Type casting\n",
    "print(float(10))\n",
    "print(int(10.1))\n",
    "print(str(10.1), type(str(10.1))) "
   ]
  },
  {
   "cell_type": "code",
   "execution_count": 24,
   "id": "64bf48e9-6354-48ba-b834-d3973fcbacd5",
   "metadata": {},
   "outputs": [
    {
     "name": "stdout",
     "output_type": "stream",
     "text": [
      "THERE\n",
      "there\n",
      "There\n",
      "1\n",
      "1\n",
      "1\n"
     ]
    }
   ],
   "source": [
    "#String methods\n",
    "hello = \"THere\"\n",
    "print(hello.upper())\n",
    "print(hello.lower())\n",
    "print(hello.capitalize())\n",
    "print(hello.count(\"er\"))\n",
    "print(hello.lower().count(\"th\"))\n"
   ]
  },
  {
   "cell_type": "code",
   "execution_count": 28,
   "id": "d8f993fe-1a5a-4835-822b-c676f2718bf3",
   "metadata": {},
   "outputs": [
    {
     "name": "stdout",
     "output_type": "stream",
     "text": [
      "great!\n"
     ]
    },
    {
     "name": "stdin",
     "output_type": "stream",
     "text": [
      "Enter anything anything\n"
     ]
    },
    {
     "name": "stdout",
     "output_type": "stream",
     "text": [
      "Funny!\n"
     ]
    }
   ],
   "source": [
    "#Conditions\n",
    "x = True\n",
    "# x =False\n",
    "\n",
    "#The blocks are separeted by indents(Spaces, tab) not {} \n",
    "#So be carefully while you add spaces!\n",
    "if x:\n",
    "    print(\"great!\");\n",
    "else:\n",
    "    print(\"Not so great\")\n",
    "\n",
    "y = input(\"Enter anything\")\n",
    "\n",
    "if y == \"anything\":\n",
    "    print(\"Funny!\")\n",
    "elif y == \"something\":\n",
    "    print(\"bruh!\")\n",
    "else:\n",
    "    print(\"not funny!\")"
   ]
  },
  {
   "cell_type": "code",
   "execution_count": 40,
   "id": "edf223a4-4030-423e-af9c-3a909a07647a",
   "metadata": {},
   "outputs": [
    {
     "name": "stdout",
     "output_type": "stream",
     "text": [
      "3\n",
      "HI\n",
      "[3, True, 'HI', 'There']\n",
      "[3, True, 'HI', 'There', 1, 2, 3, 4]\n",
      "4\n",
      "[3, True, 'HI', 'There', 1, 2, 3]\n",
      "There\n",
      "[3, True, 'HI', 1, 2, 3]\n",
      "['Hello', True, 'HI', 1, 2, 3]\n",
      "['Hello', True, 'HI', 1, 2, 3] ['Hello', True, 'HI', 1, 2, 3]\n",
      "['123123', True, 'HI', 1, 2, 3] ['123123', True, 'HI', 1, 2, 3]\n"
     ]
    }
   ],
   "source": [
    "#Lists (Arrays in Python)\n",
    "\n",
    "list1 = [3,True, \"HI\"]\n",
    "print(len(list1)) #len() is used to get the length of strings , list, tuples , sets , etc.\n",
    "print(list1[2])\n",
    "\n",
    "list1.append(\"There\") # add the element to the end of it\n",
    "print(list1)\n",
    "\n",
    "list1.extend([1,2,3,4]) # as it's suggests it extends the array to the end of it\n",
    "print(list1)\n",
    "\n",
    "print(list1.pop()) # pops the last element\n",
    "print(list1)\n",
    "print(list1.pop(3)) # pops the indexed element\n",
    "print(list1)\n",
    "\n",
    "list1[0] = \"Hello\" # List are mutable\n",
    "print(list1)\n",
    "\n",
    "list2 = list1 # list2 stored the reference (Not the value) of the list1 so if list1 changes the list2 changes with it.\n",
    "print(list1,list2)\n",
    "list1[0] = \"123123\" \n",
    "print(list1,list2)\n",
    "# To store we can so somethinglike this\n",
    "list2 = list1[:] # it's slice which will come later\n"
   ]
  },
  {
   "cell_type": "code",
   "execution_count": null,
   "id": "c99f87e6-1d08-459e-b901-ca620699216d",
   "metadata": {},
   "outputs": [],
   "source": [
    "#Tuples \n",
    "# list but immutable\n",
    "\n",
    "x = (0,2,3)\n",
    "# x[0] = 3 this will throw error\n",
    "# x.append() this will throw error\n",
    "print(x)"
   ]
  },
  {
   "cell_type": "code",
   "execution_count": 48,
   "id": "4389616a-836a-46dd-bbde-06d3e59c55ab",
   "metadata": {},
   "outputs": [
    {
     "name": "stdout",
     "output_type": "stream",
     "text": [
      "0\n",
      "1\n",
      "2\n",
      "3\n",
      "4\n",
      "5\n",
      "6\n",
      "7\n",
      "8\n",
      "9\n",
      "=================\n",
      "1\n",
      "2\n",
      "3\n",
      "4\n",
      "5\n",
      "=================\n",
      "1\n",
      "2\n",
      "3\n",
      "4\n",
      "5\n",
      "0 10\n",
      "1 9\n",
      "2 8\n",
      "3 7\n",
      "4 6\n",
      "5 5\n",
      "6 4\n",
      "7 3\n",
      "8 2\n",
      "9 1\n"
     ]
    }
   ],
   "source": [
    "# for loops\n",
    "# similar to i = 0 ; i < 10; i++\n",
    "for i in range(0,10):\n",
    "    print(i);\n",
    "\n",
    "# range(start, stop , step(optional))\n",
    "# range(0,10) will gives a list from 0 to 9\n",
    "# range(0,10,2) will gives a list [0,2,4,6,8] as last 2 gives steps.\n",
    "# reverse looping range(10,-1,-1)\n",
    "\n",
    "# looping through an list or tuple\n",
    "print(\"=================\")\n",
    "for i in [1,2,3,4,5]:\n",
    "    print(i)\n",
    "print(\"=================\")\n",
    "for i in (1,2,3,4,5):\n",
    "    print(i)\n",
    "\n",
    "# if we want values with key then we can use enumerate\n",
    "print(\"=================\")\n",
    "for value, key in enumerate(range(10,0,-1)):\n",
    "    print(value, key)"
   ]
  },
  {
   "cell_type": "code",
   "execution_count": 2,
   "id": "b9333bc1-1866-4a8e-a850-39f90da62abc",
   "metadata": {},
   "outputs": [
    {
     "name": "stdout",
     "output_type": "stream",
     "text": [
      "hello there 1\n",
      "hello there 2\n",
      "hello there 3\n",
      "hello there 4\n",
      "hello there 6\n",
      "hello there 7\n"
     ]
    }
   ],
   "source": [
    "#while \n",
    "i = 0 \n",
    "while i < 10:\n",
    "    i+=1 # NOTE: i++ and i-- doesn't work in python\n",
    "    if i == 5:\n",
    "        continue\n",
    "    if i == 8:\n",
    "        break\n",
    "    print(\"hello there\",i)"
   ]
  },
  {
   "cell_type": "code",
   "execution_count": 7,
   "id": "803f6186-b3b1-4eed-a77e-b357f6fbf90f",
   "metadata": {},
   "outputs": [
    {
     "name": "stdout",
     "output_type": "stream",
     "text": [
      "[0, 1, 2, 3]\n",
      "[0, 2, 4, 6, 8]\n"
     ]
    }
   ],
   "source": [
    "#slicing (Really Important) \n",
    "#[start:stop:step]\n",
    "x = list(range(0,10)) #list() will convert iterator to list same for tuple and set\n",
    "print(x[0:4:1])\n",
    "print(x[::2]) # empty will take default as start = 0 , stop = lastIndex , step = 1 \n"
   ]
  },
  {
   "cell_type": "code",
   "execution_count": 12,
   "id": "453ffa2d-64be-47be-959d-848fc48a8f03",
   "metadata": {},
   "outputs": [
    {
     "name": "stdout",
     "output_type": "stream",
     "text": [
      "{2, 3, 4, 5}\n",
      "{2, 3, 4}\n",
      "True\n",
      "{2, 3, 4, 5, 6, 7}\n"
     ]
    }
   ],
   "source": [
    "#set ( unordered unique collection of elements) (really fast to use)\n",
    "\n",
    "x = set()\n",
    "# this also will\n",
    "x = {2,3}\n",
    "# don't do this x = {}!\n",
    "\n",
    "x = set([2,3,4,5])\n",
    "print(x)\n",
    "\n",
    "x.remove(5)\n",
    "print(x)\n",
    "\n",
    "print(4 in x)\n",
    "\n",
    "y = {5,6,7}\n",
    "print(x.union(y))"
   ]
  },
  {
   "cell_type": "code",
   "execution_count": 25,
   "id": "9f25f302-f6fa-43da-a246-9052ff041101",
   "metadata": {},
   "outputs": [
    {
     "name": "stdout",
     "output_type": "stream",
     "text": [
      "{'key': 3, '123': 3, 3: 5, True: False}\n",
      "===============\n",
      "3\n",
      "===============\n",
      "5\n",
      "===============\n",
      "False\n",
      "===============\n",
      "dict_values([3, 3, 5, False])\n",
      "[3, 3, 5, False]\n",
      "===============\n",
      "dict_keys(['key', '123', 3, True])\n",
      "['key', '123', 3, True]\n",
      "===============\n",
      "{'123': 3, 3: 5, True: False}\n",
      "===============\n",
      "123 3\n",
      "3 5\n",
      "True False\n"
     ]
    }
   ],
   "source": [
    "# Dicts or Dictionary in python (json, hashmap!)\n",
    "# key can be anything even KEYWORDS!\n",
    "x = {\n",
    "    \"key\":3,\n",
    "    \"123\":3,\n",
    "    3:5,\n",
    "    True:False\n",
    "}\n",
    "print(x)\n",
    "print(\"===============\")\n",
    "print(x['key'])\n",
    "print(\"===============\")\n",
    "print(x[3])\n",
    "print(\"===============\")\n",
    "print(x[True])\n",
    "\n",
    "# Get all values\n",
    "print(\"===============\")\n",
    "print(x.values()) # dist_values Data Type\n",
    "print(list(x.values())) # list Data Type\n",
    "# Get all keys\n",
    "print(\"===============\")\n",
    "print(x.keys())# dist_key Data Type\n",
    "print(list(x.keys()))\n",
    "\n",
    "\n",
    "# Delete a pair\n",
    "print(\"===============\")\n",
    "del x['key']\n",
    "print(x)\n",
    "\n",
    "print(\"===============\")\n",
    "# looping through dictionary\n",
    "for key, value in x.items():\n",
    "    print(key,value)"
   ]
  },
  {
   "cell_type": "code",
   "execution_count": 31,
   "id": "41f8d62c-c275-4f6d-818f-d1cc87843699",
   "metadata": {},
   "outputs": [
    {
     "name": "stdout",
     "output_type": "stream",
     "text": [
      "[0, 1, 2, 3, 4]\n",
      "===============\n",
      "[5, 6, 7, 8, 9]\n",
      "===============\n",
      "[[0, 1, 2, 3, 4], [0, 1, 2, 3, 4], [0, 1, 2, 3, 4], [0, 1, 2, 3, 4]]\n"
     ]
    }
   ],
   "source": [
    "# Comprehensions\n",
    "# one line loop\n",
    "x = [x for x in range(5)]\n",
    "print(x)\n",
    "print(\"===============\")\n",
    "x = [x+5 for x in range(5)]\n",
    "print(x)\n",
    "\n",
    "\n",
    "print(\"===============\")\n",
    "# Following make a list of 4 list and all have 1 to 5 number\n",
    "x = [[x for x in range(0,5)] for y in range(0,4)]\n",
    "print(x)\n",
    "\n",
    "# this works with dictionaries as well "
   ]
  },
  {
   "cell_type": "code",
   "execution_count": 44,
   "id": "2369661f-c8b5-448e-9bb6-a7d194bf4d27",
   "metadata": {},
   "outputs": [
    {
     "name": "stdout",
     "output_type": "stream",
     "text": [
      "run\n",
      "Pretty good\n",
      "+++++++++++++++++\n",
      "1 2\n",
      "3\n",
      "+++++++++++++++++\n",
      "1 2\n",
      "3 -1\n",
      "+++++++++++++++++\n",
      "1 2\n"
     ]
    }
   ],
   "source": [
    "#Funciton\n",
    "# def to define function\n",
    "def func():\n",
    "    print(\"run\")\n",
    "    # we can do some thing like this all well\n",
    "    def func():\n",
    "        print(\"Pretty good\")\n",
    "    func()\n",
    "\n",
    "func()\n",
    "\n",
    "# attributes\n",
    "print(\"+++++++++++++++++\")\n",
    "def func1(x,y):\n",
    "    print(x,y)\n",
    "    return x+y \n",
    "\n",
    "x = func1(1,2)\n",
    "print(x)\n",
    "\n",
    "\n",
    "print(\"+++++++++++++++++\")\n",
    "def func2(x,y):\n",
    "    print(x,y)\n",
    "    return x+y , x - y\n",
    "\n",
    "a, b = func2(1,2)\n",
    "print(a, b)\n",
    "\n",
    "# We can return function\n",
    "print(\"+++++++++++++++++\")\n",
    "def func3(x,y):\n",
    "    def func4():\n",
    "        print(x,y)\n",
    "    return func4\n",
    "        \n",
    "\n",
    "c = func3(1,2)\n",
    "c()\n"
   ]
  },
  {
   "cell_type": "code",
   "execution_count": 48,
   "id": "2f909dc7-b5bd-49aa-a054-8f55cce5feff",
   "metadata": {},
   "outputs": [
    {
     "name": "stdout",
     "output_type": "stream",
     "text": [
      "[1, 2123, 123, 123, 234, 234]\n",
      "1 2123 123 123 234 234\n"
     ]
    }
   ],
   "source": [
    "# unpack operator\n",
    "# will get better understanding through video\n",
    "x = [1,2123,123,123,234,234]\n",
    "# Printing list\n",
    "print(x)\n",
    "# printing throught iteration \n",
    "print(*x) # * unpacks and sends elements as arguments\n"
   ]
  },
  {
   "cell_type": "code",
   "execution_count": 51,
   "id": "3371ea7b-526b-4ae0-ac73-85877e4c74b5",
   "metadata": {},
   "outputs": [
    {
     "name": "stdout",
     "output_type": "stream",
     "text": [
      "Hello\n",
      "Inside function:  change\n",
      "Hello\n",
      "++++++++++++++++\n",
      "Hello\n",
      "Inside function:  change\n",
      "change\n"
     ]
    }
   ],
   "source": [
    "# scoping\n",
    "x = \"Hello\"\n",
    "# x will not change\n",
    "def func(name):\n",
    "    x = name\n",
    "    print(\"Inside function: \",x)\n",
    "print(x)\n",
    "func(\"change\")\n",
    "print(x)\n",
    "print(\"++++++++++++++++\")\n",
    "\n",
    "\n",
    "# x will change after using global\n",
    "x = \"Hello\"\n",
    "def func(name):\n",
    "    global x;\n",
    "    x = name\n",
    "    print(\"Inside function: \",x)\n",
    "print(x)\n",
    "func(\"change\")\n",
    "print(x)"
   ]
  },
  {
   "cell_type": "code",
   "execution_count": 52,
   "id": "e62492ef-1280-40ae-ad85-5894ec71a4ca",
   "metadata": {},
   "outputs": [
    {
     "ename": "Exception",
     "evalue": "bad",
     "output_type": "error",
     "traceback": [
      "\u001b[1;31m---------------------------------------------------------------------------\u001b[0m",
      "\u001b[1;31mException\u001b[0m                                 Traceback (most recent call last)",
      "Cell \u001b[1;32mIn[52], line 3\u001b[0m\n\u001b[0;32m      1\u001b[0m \u001b[38;5;66;03m# Exceptions\u001b[39;00m\n\u001b[1;32m----> 3\u001b[0m \u001b[38;5;28;01mraise\u001b[39;00m \u001b[38;5;167;01mException\u001b[39;00m(\u001b[38;5;124m\"\u001b[39m\u001b[38;5;124mbad\u001b[39m\u001b[38;5;124m\"\u001b[39m)\n",
      "\u001b[1;31mException\u001b[0m: bad"
     ]
    }
   ],
   "source": [
    "# Exceptions\n",
    "raise Exception(\"bad\")\n"
   ]
  },
  {
   "cell_type": "code",
   "execution_count": 57,
   "id": "7943bd26-252d-4e66-be51-9fca4f905b35",
   "metadata": {},
   "outputs": [
    {
     "name": "stdout",
     "output_type": "stream",
     "text": [
      "This will print : division by zero\n",
      "This will call no matter what Happens\n"
     ]
    }
   ],
   "source": [
    "# Exception Handling\n",
    "\n",
    "try:\n",
    "    x= 7 /0\n",
    "except ZeroDivisionError as er:  # comment this and\n",
    "    print(\"This will print :\",er) # this to use the last 1\n",
    "except Exception as e:\n",
    "    print(e)\n",
    "finally:\n",
    "    print(\"This will call no matter what Happens\")"
   ]
  },
  {
   "cell_type": "code",
   "execution_count": 68,
   "id": "20c38526-b739-4fc2-92dc-4c23529d8d08",
   "metadata": {},
   "outputs": [
    {
     "name": "stdout",
     "output_type": "stream",
     "text": [
      "9\n",
      "+++++++++++\n",
      "[0, 10, 20, 30, 40, 50, 60, 70, 80, 90, 100, 110, 120, 130, 140, 150, 160, 170, 180, 190, 200, 210, 220, 230, 240]\n",
      "+++++++++++\n",
      "[1, 3, 5, 7, 9, 11, 13, 15, 17, 19, 21, 23]\n",
      "+++++++++++\n",
      "[1, 3, 5, 7, 9, 11, 13, 15, 17, 19, 21, 23]\n"
     ]
    }
   ],
   "source": [
    "#lambda (Pretty interesting) (one line function) (can be used as callbacks)\n",
    "\n",
    "x = lambda x : x + 5;\n",
    "print(x(4))\n",
    "\n",
    "print(\"+++++++++++\")\n",
    "\n",
    "# map\n",
    "\n",
    "x = list(range(0,25))\n",
    "# lambda [variable] : anything we want , [value]\n",
    "mp = map(lambda i : i*10, x)\n",
    "\n",
    "print(list(mp))\n",
    "\n",
    "print(\"+++++++++++\")\n",
    "# filter \n",
    "# only return if it's odd ... basically filters out if i % 2 is True\n",
    "fil = filter(lambda i : i % 2 , x)\n",
    "\n",
    "print(list(fil))\n",
    "\n",
    "print(\"+++++++++++\")\n",
    "# we can also do something like this.\n",
    "def func(number):\n",
    "    return number % 2 != 0\n",
    "\n",
    "fil1 = filter(func,x)\n",
    "print(list(fil1))"
   ]
  },
  {
   "cell_type": "code",
   "execution_count": 71,
   "id": "21e3da65-29af-4c5c-83fe-dc8580c375eb",
   "metadata": {},
   "outputs": [
    {
     "name": "stdout",
     "output_type": "stream",
     "text": [
      "My name is Devam. my age is 20. \n"
     ]
    }
   ],
   "source": [
    "# F strings\n",
    "var1 = \"Devam\"\n",
    "x = f'My name is {var1}. my age is {10+10}. '\n",
    "print(x)"
   ]
  },
  {
   "cell_type": "code",
   "execution_count": null,
   "id": "70e091a7-170c-4473-a5e3-95a1f83eacfd",
   "metadata": {},
   "outputs": [],
   "source": []
  }
 ],
 "metadata": {
  "kernelspec": {
   "display_name": "Python 3 (ipykernel)",
   "language": "python",
   "name": "python3"
  },
  "language_info": {
   "codemirror_mode": {
    "name": "ipython",
    "version": 3
   },
   "file_extension": ".py",
   "mimetype": "text/x-python",
   "name": "python",
   "nbconvert_exporter": "python",
   "pygments_lexer": "ipython3",
   "version": "3.11.7"
  }
 },
 "nbformat": 4,
 "nbformat_minor": 5
}
